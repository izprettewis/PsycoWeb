{
 "cells": [
  {
   "cell_type": "code",
   "execution_count": 9,
   "id": "alike-retention",
   "metadata": {},
   "outputs": [],
   "source": [
    "\n",
    "import time\n",
    "import numpy as np\n",
    "import pandas as pd\n",
    "\n",
    "import matplotlib.pyplot as plt\n",
    "import numpy as np\n",
    "import requests\n",
    "\n",
    "data = pd.read_csv('covfinal.csv', error_bad_lines=False, encoding='latin-1', low_memory=False)\n"
   ]
  },
  {
   "cell_type": "code",
   "execution_count": 11,
   "id": "basic-trinidad",
   "metadata": {},
   "outputs": [],
   "source": [
    "w_age = 18\n",
    "w_gender = 'Female'\n",
    "#w_language = st.radio(\"Pick a language\", ('EN','FR','PL','DE','PT'))\n",
    "w_country = 'Denmark'\n",
    "w_attribute_labels = ['neu','ext','ope','agr','con']"
   ]
  },
  {
   "cell_type": "code",
   "execution_count": 33,
   "id": "judicial-israeli",
   "metadata": {},
   "outputs": [],
   "source": [
    "w_age = 70\n",
    "w_gender = 'Male'\n",
    "#w_language = st.radio(\"Pick a language\", ('EN','FR','PL','DE','PT'))\n",
    "w_country = 'Poland'\n",
    "w_attribute_labels = ['neu','ext','ope','agr','con']\n",
    "\n",
    "def datamix(gender= w_gender, country=w_country, age=w_age): #UserLanguage=w_language, has been removed for now\n",
    "    mix = data.loc[data['Dem_gender']==gender].loc[data['Country']==country].loc[data['Dem_age']==age] #.loc[data['UserLanguage']==UserLanguage] has been removed for now\n",
    "    if len(mix)>0:\n",
    "        return mix[w_attribute_labels],len(mix)\n",
    "    else:\n",
    "        return 'err1' #This is only a placeholder for insufficient data\n",
    "\n",
    "\n",
    "\n",
    "def make_radar_chart(name=\"Big 5\"):\n",
    "    if datamix() == 'err1':\n",
    "        return 'insufficient data'\n",
    "    markers = list(datamix()[0].mean()) \n",
    "    print (markers)\n",
    "    labels = np.array(w_attribute_labels)\n",
    "    \n",
    "    plot_markers = markers\n",
    "    stats= markers    \n",
    "        \n",
    "    angles = np.linspace(0, 2*np.pi, len(labels), endpoint=False)\n",
    "    \n",
    "#     stats = np.concatenate((stats))\n",
    "#     angles = np.concatenate((angles))\n",
    "\n",
    "    fig= plt.figure(figsize=(10, 15), dpi=80, facecolor='w', edgecolor='red')\n",
    "    ax = fig.add_subplot(111, polar=True)\n",
    "#     ax.plot(angles, stats, 'o-', linewidth=2)\n",
    "    ax.fill(angles, stats, alpha=0.25)\n",
    "    ax.set_thetagrids(angles * 180/np.pi, labels)\n",
    "    plt.yticks(markers)\n",
    "    ax.set_title(name+': '+w_gender+' in '+w_country+', aged '+str(w_age)+' ('+str(datamix()[1])+' people)')\n",
    "    ax.grid(True)\n",
    "    \n",
    "    \n",
    "    return plt.show()\n",
    "    "
   ]
  },
  {
   "cell_type": "code",
   "execution_count": 34,
   "id": "forced-dialogue",
   "metadata": {},
   "outputs": [
    {
     "data": {
      "text/plain": [
       "'insufficient data'"
      ]
     },
     "execution_count": 34,
     "metadata": {},
     "output_type": "execute_result"
    }
   ],
   "source": [
    "\n",
    "make_radar_chart()"
   ]
  }
 ],
 "metadata": {
  "kernelspec": {
   "display_name": "Python 3",
   "language": "python",
   "name": "python3"
  },
  "language_info": {
   "codemirror_mode": {
    "name": "ipython",
    "version": 3
   },
   "file_extension": ".py",
   "mimetype": "text/x-python",
   "name": "python",
   "nbconvert_exporter": "python",
   "pygments_lexer": "ipython3",
   "version": "3.8.6"
  }
 },
 "nbformat": 4,
 "nbformat_minor": 5
}
