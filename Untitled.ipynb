{
 "cells": [
  {
   "cell_type": "code",
   "execution_count": 1,
   "id": "tutorial-smoke",
   "metadata": {},
   "outputs": [
    {
     "name": "stderr",
     "output_type": "stream",
     "text": [
      "2021-03-02 22:28:58.561 WARNING root: \n",
      "  \u001b[33m\u001b[1mWarning:\u001b[0m to view this Streamlit app on a browser, run it with the following\n",
      "  command:\n",
      "\n",
      "    streamlit run /home/wojtek/.pyenv/versions/3.8.6/envs/psycovid/lib/python3.8/site-packages/ipykernel_launcher.py [ARGUMENTS]\n"
     ]
    },
    {
     "data": {
      "text/plain": [
       "<streamlit.delta_generator.DeltaGenerator at 0x7f4c148713a0>"
      ]
     },
     "execution_count": 1,
     "metadata": {},
     "output_type": "execute_result"
    },
    {
     "data": {
      "text/plain": [
       "<Figure size 432x288 with 0 Axes>"
      ]
     },
     "metadata": {},
     "output_type": "display_data"
    }
   ],
   "source": [
    "\n",
    "import streamlit as st\n",
    "import time\n",
    "import numpy as np\n",
    "import pandas as pd\n",
    "\n",
    "import matplotlib.pyplot as plt\n",
    "import numpy as np\n",
    "import requests\n",
    "\n",
    "\n",
    "\n",
    "\n",
    "def datagender(gender='Female'):\n",
    "    return data.loc[data['Dem_gender']==gender]\n",
    "\n",
    "def datacountry(country='Poland'):\n",
    "    return data.loc[data['Country']==country]\n",
    "    \n",
    "\n",
    "def datalanguage(UserLanguage='PL'):\n",
    "    return data.loc[data['UserLanguage']==UserLanguage]\n",
    "\n",
    "st.write(\"\"\"My first app COpsych\"\"\")\n",
    "\n",
    "\n",
    "\n",
    "data = pd.read_csv('covfinal.csv', error_bad_lines=False, encoding='latin-1', nrows=10000, low_memory=False)\n",
    "\n",
    "age = st.slider(\"Choose age:\", 18, 70)\n",
    "gender = st.radio(\"Pick a gender\", ('Male','Female','Else'))\n",
    "if gender == 'Female':\n",
    "    st.write('You selected female')\n",
    "elif gender == 'Male':\n",
    "    st.write('You selected male')\n",
    "else: \n",
    "    st.write('You selected other genders')\n",
    "\n",
    "st.line_chart(data)\n",
    "\n",
    "\n",
    "\n",
    "import matplotlib.pyplot as plt\n",
    "\n",
    "# Data to plot\n",
    "labels = 'neu','ext',\t'ope',\t'agr','con'\n",
    "sizes = list(datalanguage('EN')[['neu','ext',\t'ope',\t'agr','con']].mean())\n",
    "colors = ['gold', 'yellowgreen', 'lightcoral', 'lightskyblue', 'darksalmon']\n",
    "explode = (0.1, 0, 0, 0, 0)  # explode 1st slice\n",
    "\n",
    "# Plot\n",
    "plt.pie(sizes, explode=explode, labels=labels, colors=colors,\n",
    "autopct='%1.1f%%', shadow=True, startangle=140)\n",
    "\n",
    "plt.axis('equal')\n",
    "st.pyplot()\n",
    "\n"
   ]
  }
 ],
 "metadata": {
  "kernelspec": {
   "display_name": "Python 3",
   "language": "python",
   "name": "python3"
  },
  "language_info": {
   "codemirror_mode": {
    "name": "ipython",
    "version": 3
   },
   "file_extension": ".py",
   "mimetype": "text/x-python",
   "name": "python",
   "nbconvert_exporter": "python",
   "pygments_lexer": "ipython3",
   "version": "3.8.6"
  }
 },
 "nbformat": 4,
 "nbformat_minor": 5
}
